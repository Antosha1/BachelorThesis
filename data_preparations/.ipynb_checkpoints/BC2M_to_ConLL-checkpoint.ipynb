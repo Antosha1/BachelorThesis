{
 "cells": [
  {
   "cell_type": "code",
   "execution_count": 2,
   "metadata": {},
   "outputs": [],
   "source": [
    "with open('../data/Genes/BC2GM/train.tsv', 'r') as f:\n",
    "    train = f.read().splitlines()\n",
    "\n",
    "with open('../data/Genes/BC2GM/valid.tsv', 'r') as f:\n",
    "    valid = f.read().splitlines()\n",
    "    \n",
    "with open('../data/Genes/BC2GM/test.tsv', 'r') as f:\n",
    "    test = f.read().splitlines()"
   ]
  },
  {
   "cell_type": "code",
   "execution_count": 3,
   "metadata": {},
   "outputs": [
    {
     "data": {
      "text/plain": [
       "['Comparison', 'O']"
      ]
     },
     "execution_count": 3,
     "metadata": {},
     "output_type": "execute_result"
    }
   ],
   "source": [
    "train[0].split('\\t')"
   ]
  },
  {
   "cell_type": "code",
   "execution_count": 4,
   "metadata": {},
   "outputs": [],
   "source": [
    "def to_conll(data, split):\n",
    "\n",
    "    file_path = '../data/Genes/BC2GM/' + split + '.txt'\n",
    "    with open (file_path, 'w') as f:\n",
    "        for row in train:\n",
    "            if row != '':\n",
    "                a, b = row.split('\\t')[0], row.split('\\t')[1]\n",
    "                f.write(a + ' ' + b + '\\n')\n",
    "            else:\n",
    "                f.write('\\n')\n",
    "                \n",
    "    return"
   ]
  },
  {
   "cell_type": "code",
   "execution_count": 6,
   "metadata": {},
   "outputs": [],
   "source": [
    "to_conll(train, split='train')\n",
    "to_conll(valid, split='valid')\n",
    "to_conll(test, split='test')"
   ]
  },
  {
   "cell_type": "code",
   "execution_count": null,
   "metadata": {},
   "outputs": [],
   "source": []
  }
 ],
 "metadata": {
  "kernelspec": {
   "display_name": "Python 3",
   "language": "python",
   "name": "python3"
  },
  "language_info": {
   "codemirror_mode": {
    "name": "ipython",
    "version": 3
   },
   "file_extension": ".py",
   "mimetype": "text/x-python",
   "name": "python",
   "nbconvert_exporter": "python",
   "pygments_lexer": "ipython3",
   "version": "3.7.6"
  }
 },
 "nbformat": 4,
 "nbformat_minor": 4
}
