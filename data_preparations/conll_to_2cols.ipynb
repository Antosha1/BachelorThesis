{
 "cells": [
  {
   "cell_type": "code",
   "execution_count": 1,
   "metadata": {},
   "outputs": [],
   "source": [
    "split_type = ['train', 'valid', 'text']\n",
    "\n",
    "train_data_path = '../data/ConLL-2003/train.txt'\n",
    "val_data_path = '../data/ConLL-2003/valid.txt'\n",
    "test_data_path = '../data/ConLL-2003/test.txt'\n",
    "\n",
    "with open(train_data_path, 'r') as f:\n",
    "    train_data = [row.strip() for row in f]\n",
    "    \n",
    "with open(val_data_path, 'r') as f:\n",
    "    val_data = [row.strip() for row in f]\n",
    "    \n",
    "with open(test_data_path, 'r') as f:\n",
    "    test_data = [row.strip() for row in f]"
   ]
  },
  {
   "cell_type": "code",
   "execution_count": 2,
   "metadata": {},
   "outputs": [],
   "source": [
    "def word_tag(data):\n",
    "    \n",
    "    clean_data = []\n",
    "    \n",
    "    for line in data:\n",
    "        if len(line.split()) == 4:\n",
    "            clean_data.append(line.split()[0] + ' ' + line.split()[3])\n",
    "        else:\n",
    "            clean_data.append(line)\n",
    "            \n",
    "    return clean_data"
   ]
  },
  {
   "cell_type": "code",
   "execution_count": 3,
   "metadata": {},
   "outputs": [],
   "source": [
    "train = word_tag(train_data)\n",
    "val = word_tag(val_data)\n",
    "test = word_tag(test_data)"
   ]
  },
  {
   "cell_type": "code",
   "execution_count": 4,
   "metadata": {},
   "outputs": [],
   "source": [
    "def write_to_file(clean_data, split_type):\n",
    "    \n",
    "    data_path = '../data/ConLL-2003/' + split_type + '_2cols.txt'\n",
    "    \n",
    "    with open(data_path, 'w') as file:\n",
    "        for line in clean_data:\n",
    "            if len(line.split()) == 2:\n",
    "                token, tag = line.split()[0], line.split()[1]\n",
    "                file.write(token + ' ' + tag + '\\n')\n",
    "            else:\n",
    "                file.write('\\n')\n",
    "    return"
   ]
  },
  {
   "cell_type": "code",
   "execution_count": 5,
   "metadata": {},
   "outputs": [],
   "source": [
    "write_to_file(train, split_type='train')\n",
    "write_to_file(val, split_type='valid')\n",
    "write_to_file(test, split_type='test')"
   ]
  },
  {
   "cell_type": "code",
   "execution_count": null,
   "metadata": {},
   "outputs": [],
   "source": []
  }
 ],
 "metadata": {
  "kernelspec": {
   "display_name": "Python 3",
   "language": "python",
   "name": "python3"
  },
  "language_info": {
   "codemirror_mode": {
    "name": "ipython",
    "version": 3
   },
   "file_extension": ".py",
   "mimetype": "text/x-python",
   "name": "python",
   "nbconvert_exporter": "python",
   "pygments_lexer": "ipython3",
   "version": "3.7.3"
  }
 },
 "nbformat": 4,
 "nbformat_minor": 2
}
